{
 "cells": [
  {
   "cell_type": "markdown",
   "metadata": {},
   "source": [
    "## 1. Calculate Area of a Circle"
   ]
  },
  {
   "cell_type": "markdown",
   "metadata": {},
   "source": [
    "#### Write a Python program which accepts the radius of a circle from the user and compute the area.\n",
    "###### Program Console Sample Output 1:\n",
    "###### Input Radius: 0.5\n",
    "###### Area of Circle with radius 0.5 is 0.7853981634"
   ]
  },
  {
   "cell_type": "code",
   "execution_count": 1,
   "metadata": {},
   "outputs": [
    {
     "name": "stdout",
     "output_type": "stream",
     "text": [
      "input radius5\n",
      "Area of cirlce is 78.55\n"
     ]
    }
   ],
   "source": [
    "radius=float(input(\"input radius\"))\n",
    "area =3.142 *  radius**2\n",
    "print(\"Area of cirlce is\",area)"
   ]
  },
  {
   "cell_type": "code",
   "execution_count": 2,
   "metadata": {},
   "outputs": [
    {
     "name": "stdout",
     "output_type": "stream",
     "text": [
      "input radius0.5\n",
      "Area of cirlce is 0.7855\n"
     ]
    }
   ],
   "source": [
    "radius=float(input(\"input radius\"))\n",
    "area =3.142 *  radius**2\n",
    "print(\"Area of cirlce is\",area)"
   ]
  },
  {
   "cell_type": "markdown",
   "metadata": {},
   "source": [
    "## 2. Check Number either positive, negative or zero"
   ]
  },
  {
   "cell_type": "markdown",
   "metadata": {},
   "source": [
    "#### Write a Python program to check if a number is positive, negative or zero\n",
    "###### Program Console Sample Output 1:\n",
    "###### Enter Number: -1\n",
    "##### Negative Number Entered\n",
    "###### Program Console Sample Output 2:\n",
    "##### Integer: 3\n",
    "##### Positive Number Entered\n",
    "###### Program Console Sample Output 3:\n",
    "##### Integer: 0\n",
    "###### Zero Entered"
   ]
  },
  {
   "cell_type": "code",
   "execution_count": 3,
   "metadata": {},
   "outputs": [
    {
     "name": "stdout",
     "output_type": "stream",
     "text": [
      "enter no  -9\n",
      "Negative no entered\n"
     ]
    }
   ],
   "source": [
    "num=int(input(\"enter no  \"))\n",
    "if num <0:\n",
    "    print(\"Negative no entered\")\n",
    "elif num >0:\n",
    "    print(\"positive no entered\")\n",
    "else:\n",
    "    print(\"Zero enterd\")"
   ]
  },
  {
   "cell_type": "markdown",
   "metadata": {},
   "source": []
  },
  {
   "cell_type": "code",
   "execution_count": 4,
   "metadata": {},
   "outputs": [
    {
     "name": "stdout",
     "output_type": "stream",
     "text": [
      "enter no  98\n",
      "positive no entered\n"
     ]
    }
   ],
   "source": [
    "num=int(input(\"enter no  \"))\n",
    "if num <0:\n",
    "    print(\"Negative no entered\")\n",
    "elif num >0:\n",
    "    print(\"positive no entered\")\n",
    "else:\n",
    "    print(\"Zero enterd\")"
   ]
  },
  {
   "cell_type": "markdown",
   "metadata": {},
   "source": [
    "## 3. Divisibility Check of two numbers"
   ]
  },
  {
   "cell_type": "markdown",
   "metadata": {},
   "source": [
    "#### Write a Python program to check whether a number is completely divisible by another number. Accept two integer values form the user\n",
    "##### Program Console Sample Output 1:\n",
    "###### Enter numerator: 4\n",
    "###### Enter Denominator: 2\n",
    "##### Number 4 is Completely divisible by 2\n",
    "###### Program Console Sample Output 2:\n",
    "##### Enter numerator: 7\n",
    "\n",
    "##### Enter Denominator: 4\n",
    "###### Number 7 is not Completely divisible by 4"
   ]
  },
  {
   "cell_type": "code",
   "execution_count": 5,
   "metadata": {},
   "outputs": [
    {
     "name": "stdout",
     "output_type": "stream",
     "text": [
      "Enter numerator8\n",
      "Enter sdenominator9\n",
      "number 8 is not completey divisible by 9 \n"
     ]
    }
   ],
   "source": [
    "num1=int(input(\"Enter numerator\"))\n",
    "num2=int(input(\"Enter denominator\"))\n",
    "num3=num1 % num2 \n",
    "if num3==0:\n",
    "    print(f\"number {num1} is completely divisible by {num2}\")\n",
    "else:\n",
    "    print(f\"number {num1} is not completey divisible by {num2} \")"
   ]
  },
  {
   "cell_type": "code",
   "execution_count": 3,
   "metadata": {},
   "outputs": [
    {
     "name": "stdout",
     "output_type": "stream",
     "text": [
      "Enter numerator4\n",
      "Enter sdenominator2\n",
      "number 4 is completely divisible by 2\n"
     ]
    }
   ],
   "source": [
    "num1=int(input(\"Enter numerator\"))\n",
    "num2=int(input(\"Enter denominator\"))\n",
    "num3=num1 % num2 \n",
    "if num3==0:\n",
    "    print(f\"number {num1} is completely divisible by {num2}\")\n",
    "else:\n",
    "    print(f\"number {num1} is not completey divisible by {num2} \")"
   ]
  },
  {
   "cell_type": "markdown",
   "metadata": {},
   "source": [
    "## 4. Calculate Volume of a sphere"
   ]
  },
  {
   "cell_type": "markdown",
   "metadata": {},
   "source": [
    "##### Write a Python program to get the volume of a sphere, please take the radius as input from user"
   ]
  },
  {
   "cell_type": "markdown",
   "metadata": {},
   "source": [
    "##### Program Console Output:\n",
    "##### Enter Radius of Sphere: 1\n",
    "###### Volume of the Sphere with Radius 1 is 4.18"
   ]
  },
  {
   "cell_type": "code",
   "execution_count": 6,
   "metadata": {},
   "outputs": [
    {
     "name": "stdout",
     "output_type": "stream",
     "text": [
      "Enter radius  9\n",
      "volume of sphere with raduis 9.0 is 3054.024\n"
     ]
    }
   ],
   "source": [
    "num1=float(input(\"Enter radius  \"))\n",
    "num2=(4/3)*3.142*(num1**3)\n",
    "print(f\"volume of sphere with raduis {num1} is {num2}\")"
   ]
  },
  {
   "cell_type": "code",
   "execution_count": 7,
   "metadata": {},
   "outputs": [
    {
     "name": "stdout",
     "output_type": "stream",
     "text": [
      "Enter radius  87\n",
      "volume of sphere with raduis 87.0 is 2758688.5679999995\n"
     ]
    }
   ],
   "source": [
    "num1=float(input(\"Enter radius  \"))\n",
    "num2=(4/3)*3.142*(num1**3)\n",
    "print(f\"volume of sphere with raduis {num1} is {num2}\")"
   ]
  },
  {
   "cell_type": "markdown",
   "metadata": {},
   "source": [
    "## 5. Copy string n times\n",
    "#### Write a Python program to get a string which is n (non-negative integer) copies of a given string.\n",
    "##### Program Console Output:\n",
    "##### Enter String: Hi\n",
    "###### How many copies of String you need: 4\n",
    "###### 4 Copies of Hi are HiHiHiHi"
   ]
  },
  {
   "cell_type": "code",
   "execution_count": 12,
   "metadata": {},
   "outputs": [
    {
     "name": "stdout",
     "output_type": "stream",
     "text": [
      "Enter string  hi\n",
      "how many copies of string you need  4\n",
      "4 copies of HI are HIHIHIHI\n"
     ]
    }
   ],
   "source": [
    "x=input(\"Enter string  \").upper()\n",
    "y=int(input(\"how many copies of string you need  \"))\n",
    "z= x*y\n",
    "print(f\"{y} copies of {x} are { z}\")"
   ]
  },
  {
   "cell_type": "code",
   "execution_count": 13,
   "metadata": {},
   "outputs": [
    {
     "name": "stdout",
     "output_type": "stream",
     "text": [
      "Enter string  hi\n",
      "how many copies of string you need  4\n",
      "4 copies of HI are HIHIHIHI\n"
     ]
    }
   ],
   "source": [
    "x=input(\"Enter string  \").upper()\n",
    "y=int(input(\"how many copies of string you need  \"))\n",
    "z= x*y\n",
    "print(f\"{y} copies of {x} are {z}\")"
   ]
  },
  {
   "cell_type": "markdown",
   "metadata": {},
   "source": [
    "## 6. Check if number is Even or Odd\n",
    "### Write a Python program to find whether a given number (accept from the user) is even or odd, print out an appropriate message to the user\n",
    "#### Program Console Output 1:\n",
    "##### Enter Number: 4\n",
    "###### 4 is Even\n",
    "#### Program Console Output 2:\n",
    "##### Enter Number: 9\n",
    "###### 9 is Odd"
   ]
  },
  {
   "cell_type": "code",
   "execution_count": 14,
   "metadata": {},
   "outputs": [
    {
     "name": "stdout",
     "output_type": "stream",
     "text": [
      "Enter number  76\n",
      "76 is even\n"
     ]
    }
   ],
   "source": [
    "num=int(input(\"Enter number  \"))\n",
    "num1 = num % 2\n",
    "if num1 == 0:\n",
    "    print(f\"{num} is even\")\n",
    "else:\n",
    "    print(f\"{num} is odd\")"
   ]
  },
  {
   "cell_type": "code",
   "execution_count": 15,
   "metadata": {},
   "outputs": [
    {
     "name": "stdout",
     "output_type": "stream",
     "text": [
      "Enter number  89\n",
      "89 is odd\n"
     ]
    }
   ],
   "source": [
    "num=int(input(\"Enter number  \"))\n",
    "num1 = num % 2\n",
    "if num1 == 0:\n",
    "    print(f\"{num} is even\")\n",
    "else:\n",
    "    print(f\"{num} is odd\")"
   ]
  },
  {
   "cell_type": "markdown",
   "metadata": {},
   "source": [
    "## 7. Vowel Tester\n",
    "### Write a Python program to test whether a passed letter is a vowel or not\n",
    "#### Program Console Output 1:\n",
    "##### Enter a character: A\n",
    "###### Letter A is Vowel\n",
    "#### Program Console Output 2:\n",
    "##### Enter a character: e\n",
    "###### Letter e is Vowel\n",
    "#### Program Console Output 2:\n",
    "##### Enter a character: N\n",
    "###### Letter N is not Vowel"
   ]
  },
  {
   "cell_type": "code",
   "execution_count": 16,
   "metadata": {},
   "outputs": [
    {
     "name": "stdout",
     "output_type": "stream",
     "text": [
      "Enter a character t\n",
      "Letter T is not Vowle\n"
     ]
    }
   ],
   "source": [
    "x=input(\"Enter a character \").upper()\n",
    "if x=='A' or x=='E' or x==\"i\" or x==\"O\" or x==\"u\":\n",
    "    print(f\"Letter {x} is Vowel\")\n",
    "else:\n",
    "    print(f\"Letter {x} is not Vowle\")"
   ]
  },
  {
   "cell_type": "markdown",
   "metadata": {},
   "source": [
    "## 8. Triangle area\n",
    "### Write a Python program that will accept the base and height of a triangle and compute the area"
   ]
  },
  {
   "cell_type": "code",
   "execution_count": 18,
   "metadata": {},
   "outputs": [
    {
     "name": "stdout",
     "output_type": "stream",
     "text": [
      "Enter the Base of triangle 4\n",
      "Enter the highet of triangle 5\n",
      "The area of Triangle with base 4.0 and highet 5.0 is 10.0\n"
     ]
    }
   ],
   "source": [
    "num1=float(input(\"Enter the Base of triangle \"))\n",
    "num2=float(input(\"Enter the highet of triangle \"))\n",
    "num3=(1/2)*num1*num2\n",
    "print(f\"The area of Triangle with base {num1} and highet {num2} is {num3}\")"
   ]
  },
  {
   "cell_type": "markdown",
   "metadata": {},
   "source": [
    "## 9. Calculate Interest\n",
    "### Write a Python program to compute the future value of a specified principal amount, rate of interest, and a number of years\n",
    "#### Program Console Sample 1:\n",
    "##### Please enter principal amount: 10000\n",
    "###### Please Enter Rate of interest in %: 0.1\n",
    "###### Enter number of years for investment: 5\n",
    "###### After 5 years your principal amount 10000 over an interest rate of 0.1 % will be 16105.1"
   ]
  },
  {
   "cell_type": "code",
   "execution_count": 26,
   "metadata": {},
   "outputs": [
    {
     "name": "stdout",
     "output_type": "stream",
     "text": [
      "Please enter principal amount:  10000\n",
      "Please Enter Rate of interest in %:  .1\n",
      "Enter number of years for investment:  5\n",
      "After 5 years your principal amount 10000.0 over an interst rate of 0.1 % will be 10049.999999999998\n"
     ]
    }
   ],
   "source": [
    "num1=float(input(\"Please enter principal amount:  \"))\n",
    "num2=float(input(\"Please Enter Rate of interest in %:  \"))\n",
    "num3=int(input(\"Enter number of years for investment:  \"))\n",
    "num4=num1*(1+(num2/100)*num3)\n",
    "print(f\"After {num3} years your principal amount {num1} over an interst rate of {num2} % will be {num4}\")"
   ]
  },
  {
   "cell_type": "code",
   "execution_count": 27,
   "metadata": {},
   "outputs": [
    {
     "name": "stdout",
     "output_type": "stream",
     "text": [
      "Please enter principal amount:  1500.6\n",
      "Please Enter Rate of interest in %:  .5\n",
      "Enter number of years for investment:  7\n",
      "After 7 years your principal amount 1500.6 over an interst rate of 0.5 % will be 1553.1209999999999\n"
     ]
    }
   ],
   "source": [
    "num1=float(input(\"Please enter principal amount:  \"))\n",
    "num2=float(input(\"Please Enter Rate of interest in %:  \"))\n",
    "num3=int(input(\"Enter number of years for investment:  \"))\n",
    "num4=num1*(1+(num2/100)*num3)\n",
    "print(f\"After {num3} years your principal amount {num1} over an interst rate of {num2} % will be {num4}\")"
   ]
  },
  {
   "cell_type": "markdown",
   "metadata": {},
   "source": [
    "## 10. Euclidean distance\n",
    "### write a Python program to compute the distance between the points (x1, y1) and (x2, y2).\n",
    "#### Program Console Sample 1:\n",
    "###### Enter Co-ordinate for x1: 2\n",
    "###### Enter Co-ordinate for x2: 4\n",
    "###### Enter Co-ordinate for y1: 4\n",
    "###### Enter Co-ordinate for y2: 4\n",
    "###### Distance between points (2, 4) and (4, 4) is 2"
   ]
  },
  {
   "cell_type": "markdown",
   "metadata": {},
   "source": [
    "###### Reference:\n",
    "https://en.wikipedia.org/wiki/Euclidean_distance"
   ]
  },
  {
   "cell_type": "code",
   "execution_count": 45,
   "metadata": {},
   "outputs": [
    {
     "name": "stdout",
     "output_type": "stream",
     "text": [
      "Enter Co-ordinate for x1: 2\n",
      "Enter Co-ordinate for x2: 4\n",
      "Enter Co-ordinate for y1: 4\n",
      "Enter Co-ordinate for y2: 4\n",
      "Distance between points (2, 4) and (4, 4) is 2.0\n"
     ]
    }
   ],
   "source": [
    "num1=int(input(\"Enter Co-ordinate for x1: \"))\n",
    "num2=int(input(\"Enter Co-ordinate for x2: \"))\n",
    "num3=int(input(\"Enter Co-ordinate for y1: \"))\n",
    "num4=int(input(\"Enter Co-ordinate for y2: \"))\n",
    "\n",
    "import math\n",
    "num5=math.sqrt(pow(num2-num1,2)-pow(num4-num3,2))\n",
    "print(f\"Distance between points {(num1,num2)} and {(num3,num4)} is {num5}\")"
   ]
  },
  {
   "cell_type": "markdown",
   "metadata": {},
   "source": [
    "## 11. Feet to Centimeter Converter\n",
    "### Write a Python program to convert height in feet to centimetres.\n",
    "##### Program Console Sample 1:\n",
    "###### Enter Height in Feet: 5\n",
    "###### There are 152.4 Cm in 5 ft\n"
   ]
  },
  {
   "cell_type": "code",
   "execution_count": 47,
   "metadata": {},
   "outputs": [
    {
     "name": "stdout",
     "output_type": "stream",
     "text": [
      "Enter height in feet: 5\n",
      "There are 152.4 Cm in 5.0 ft\n"
     ]
    }
   ],
   "source": [
    "num1=float(input(\"Enter height in feet: \"))\n",
    "num2=num1*30.48\n",
    "print(f\"There are {num2} Cm in {num1} ft\")"
   ]
  },
  {
   "cell_type": "markdown",
   "metadata": {},
   "source": [
    "## 12. BMI Calculator\n",
    "### Write a Python program to calculate body mass index\n",
    "##### Program Console Sample 1:\n",
    "###### Enter Height in Cm: 180\n",
    "###### Enter Weight in Kg: 75\n",
    "###### Your BMI is 23.15"
   ]
  },
  {
   "cell_type": "code",
   "execution_count": 68,
   "metadata": {},
   "outputs": [
    {
     "name": "stdout",
     "output_type": "stream",
     "text": [
      "Enter height in Cm: 180\n",
      "Eter weight in Kg: 75\n",
      "Your BMI is 23.15\n"
     ]
    }
   ],
   "source": [
    "num1=float(input(\"Enter height in Cm: \"))\n",
    "num2=float(input(\"Eter weight in Kg: \"))\n",
    "import math\n",
    "num3=(num2 / (math.pow(num1 * 0.01,2)))\n",
    "num3=round(num3,2)             \n",
    "print(f\"Your BMI is {num3}\")\n"
   ]
  },
  {
   "cell_type": "markdown",
   "metadata": {},
   "source": []
  },
  {
   "cell_type": "markdown",
   "metadata": {},
   "source": [
    "## 13. Sum of n Positive Integers\n",
    "### Write a python program to sum of the first n positive integers\n",
    "#### Program Console Sample 1:\n",
    "###### Enter value of n: 5\n",
    "###### Sum of n Positive integers till 5 is 15"
   ]
  },
  {
   "cell_type": "code",
   "execution_count": 69,
   "metadata": {},
   "outputs": [
    {
     "name": "stdout",
     "output_type": "stream",
     "text": [
      "Enter value of n: 5\n",
      "Sum of n Positive integers till 5 is 15\n"
     ]
    }
   ],
   "source": [
    "num = 0\n",
    "value = int(input(\"Enter value of n: \"))\n",
    "for i in range(value+1):\n",
    "    num += i\n",
    "print(f\"Sum of n Positive integers till {value} is {num}\")"
   ]
  },
  {
   "cell_type": "code",
   "execution_count": null,
   "metadata": {},
   "outputs": [],
   "source": []
  },
  {
   "cell_type": "code",
   "execution_count": null,
   "metadata": {},
   "outputs": [],
   "source": []
  },
  {
   "cell_type": "markdown",
   "metadata": {},
   "source": [
    "## 14. Digits Sum of a Number\n",
    "### Write a Python program to calculate the sum of the digits in an integer\n",
    "#### Program Console Sample 1:\n",
    "##### Enter a number: 15\n",
    "###### Sum of 1 + 5 is 6\n",
    "#### Program Console Sample 2:\n",
    "##### Enter a number: 1234\n",
    "###### Sum of 1 + 2 + 3 + 4 is 10"
   ]
  },
  {
   "cell_type": "code",
   "execution_count": 70,
   "metadata": {},
   "outputs": [
    {
     "name": "stdout",
     "output_type": "stream",
     "text": [
      "Enter Integer Value : 1234\n",
      "Sum of the 1234 is : 10\n"
     ]
    }
   ],
   "source": [
    "n = input(\"Enter Integer Value : \")\n",
    "sum = 0\n",
    "for d in n:\n",
    "    sum += int(d)\n",
    "print(f\"Sum of the {n} is :\", sum)\n"
   ]
  }
 ],
 "metadata": {
  "kernelspec": {
   "display_name": "Python 3",
   "language": "python",
   "name": "python3"
  },
  "language_info": {
   "codemirror_mode": {
    "name": "ipython",
    "version": 3
   },
   "file_extension": ".py",
   "mimetype": "text/x-python",
   "name": "python",
   "nbconvert_exporter": "python",
   "pygments_lexer": "ipython3",
   "version": "3.7.3"
  }
 },
 "nbformat": 4,
 "nbformat_minor": 2
}
